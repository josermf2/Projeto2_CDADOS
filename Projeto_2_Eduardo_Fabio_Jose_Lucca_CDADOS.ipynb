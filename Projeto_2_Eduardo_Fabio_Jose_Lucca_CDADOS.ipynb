{
 "cells": [
  {
   "cell_type": "markdown",
   "metadata": {},
   "source": [
    "# Projeto 2 - Ciência dos Dados"
   ]
  },
  {
   "cell_type": "markdown",
   "metadata": {},
   "source": [
    "Nome: Eduardo Janes Vescovi <br />\n",
    "Nome: Fabio Dotoli Ferreira Filho <br />\n",
    "Nome: José Rafael Martins Fernandes <br />\n",
    "Nome: Lucca Barufatti Velini Sanches"
   ]
  },
  {
   "cell_type": "markdown",
   "metadata": {},
   "source": [
    "## Proposta do projeto:"
   ]
  },
  {
   "cell_type": "markdown",
   "metadata": {},
   "source": [
    "O \"Car Evaluation Data Set\", disponível em https://archive.ics.uci.edu/ml/datasets/Car+Evaluation, consiste em um dataset que apresenta características de diversos carros disponíveis no mercado. Estão presentes o número de portas, o tamanho do porta-malas, o valor de manutenção, o nível de segurança do carro e o valor do carro. A ideia do projeto é usar métodos de classificação para prever a aceitação da oferta desse veículo no mercado, baseado nesses outros atributos. Para isso, foram escolhidos os métodos de classificação \"Regressão Logística\" e \"Árvore de Classificação\". Além disso, a biblioteca scikit-learn, do python, para realizar as classificações e mostrar os resultados."
   ]
  },
  {
   "cell_type": "markdown",
   "metadata": {},
   "source": [
    "### Carregando algumas bibliotecas:"
   ]
  },
  {
   "cell_type": "code",
   "execution_count": 176,
   "metadata": {},
   "outputs": [],
   "source": [
    "%matplotlib inline\n",
    "import pandas as pd\n",
    "import matplotlib.pyplot as plt\n",
    "import numpy as np\n",
    "import os\n",
    "import sklearn.model_selection\n",
    "import sklearn.linear_model\n",
    "import sklearn.metrics\n",
    "import sklearn.tree\n",
    "from math import *\n",
    "from IPython.display import display\n",
    "pd.options.display.max_rows = 13"
   ]
  },
  {
   "cell_type": "markdown",
   "metadata": {},
   "source": [
    "### Localizando o arquivo"
   ]
  },
  {
   "cell_type": "code",
   "execution_count": 177,
   "metadata": {},
   "outputs": [
    {
     "name": "stdout",
     "output_type": "stream",
     "text": [
      "Encontrei o arquivo car.data, tudo certo para prosseguir com o projeto!\n"
     ]
    }
   ],
   "source": [
    "filename = 'car.data'\n",
    "if filename in os.listdir():\n",
    "    print(f'Encontrei o arquivo {filename}, tudo certo para prosseguir com o projeto!')\n",
    "else:\n",
    "    print(f'Não encontrei o arquivo {filename} aqui no diretório {os.getcwd()}, será que você não baixou o arquivo?')"
   ]
  },
  {
   "cell_type": "markdown",
   "metadata": {},
   "source": [
    "### Carregando o arquivo"
   ]
  },
  {
   "cell_type": "code",
   "execution_count": 178,
   "metadata": {},
   "outputs": [
    {
     "data": {
      "text/html": [
       "<div>\n",
       "<style scoped>\n",
       "    .dataframe tbody tr th:only-of-type {\n",
       "        vertical-align: middle;\n",
       "    }\n",
       "\n",
       "    .dataframe tbody tr th {\n",
       "        vertical-align: top;\n",
       "    }\n",
       "\n",
       "    .dataframe thead th {\n",
       "        text-align: right;\n",
       "    }\n",
       "</style>\n",
       "<table border=\"1\" class=\"dataframe\">\n",
       "  <thead>\n",
       "    <tr style=\"text-align: right;\">\n",
       "      <th></th>\n",
       "      <th>Buying</th>\n",
       "      <th>Maint</th>\n",
       "      <th>Doors</th>\n",
       "      <th>Capacity</th>\n",
       "      <th>Lug_boot</th>\n",
       "      <th>Safety</th>\n",
       "      <th>Car_acceptability</th>\n",
       "    </tr>\n",
       "  </thead>\n",
       "  <tbody>\n",
       "    <tr>\n",
       "      <th>0</th>\n",
       "      <td>vhigh</td>\n",
       "      <td>vhigh</td>\n",
       "      <td>2</td>\n",
       "      <td>2</td>\n",
       "      <td>small</td>\n",
       "      <td>low</td>\n",
       "      <td>unacc</td>\n",
       "    </tr>\n",
       "    <tr>\n",
       "      <th>1</th>\n",
       "      <td>vhigh</td>\n",
       "      <td>vhigh</td>\n",
       "      <td>2</td>\n",
       "      <td>2</td>\n",
       "      <td>small</td>\n",
       "      <td>med</td>\n",
       "      <td>unacc</td>\n",
       "    </tr>\n",
       "    <tr>\n",
       "      <th>2</th>\n",
       "      <td>vhigh</td>\n",
       "      <td>vhigh</td>\n",
       "      <td>2</td>\n",
       "      <td>2</td>\n",
       "      <td>small</td>\n",
       "      <td>high</td>\n",
       "      <td>unacc</td>\n",
       "    </tr>\n",
       "    <tr>\n",
       "      <th>3</th>\n",
       "      <td>vhigh</td>\n",
       "      <td>vhigh</td>\n",
       "      <td>2</td>\n",
       "      <td>2</td>\n",
       "      <td>med</td>\n",
       "      <td>low</td>\n",
       "      <td>unacc</td>\n",
       "    </tr>\n",
       "    <tr>\n",
       "      <th>4</th>\n",
       "      <td>vhigh</td>\n",
       "      <td>vhigh</td>\n",
       "      <td>2</td>\n",
       "      <td>2</td>\n",
       "      <td>med</td>\n",
       "      <td>med</td>\n",
       "      <td>unacc</td>\n",
       "    </tr>\n",
       "    <tr>\n",
       "      <th>...</th>\n",
       "      <td>...</td>\n",
       "      <td>...</td>\n",
       "      <td>...</td>\n",
       "      <td>...</td>\n",
       "      <td>...</td>\n",
       "      <td>...</td>\n",
       "      <td>...</td>\n",
       "    </tr>\n",
       "    <tr>\n",
       "      <th>1723</th>\n",
       "      <td>low</td>\n",
       "      <td>low</td>\n",
       "      <td>5more</td>\n",
       "      <td>more</td>\n",
       "      <td>med</td>\n",
       "      <td>med</td>\n",
       "      <td>good</td>\n",
       "    </tr>\n",
       "    <tr>\n",
       "      <th>1724</th>\n",
       "      <td>low</td>\n",
       "      <td>low</td>\n",
       "      <td>5more</td>\n",
       "      <td>more</td>\n",
       "      <td>med</td>\n",
       "      <td>high</td>\n",
       "      <td>vgood</td>\n",
       "    </tr>\n",
       "    <tr>\n",
       "      <th>1725</th>\n",
       "      <td>low</td>\n",
       "      <td>low</td>\n",
       "      <td>5more</td>\n",
       "      <td>more</td>\n",
       "      <td>big</td>\n",
       "      <td>low</td>\n",
       "      <td>unacc</td>\n",
       "    </tr>\n",
       "    <tr>\n",
       "      <th>1726</th>\n",
       "      <td>low</td>\n",
       "      <td>low</td>\n",
       "      <td>5more</td>\n",
       "      <td>more</td>\n",
       "      <td>big</td>\n",
       "      <td>med</td>\n",
       "      <td>good</td>\n",
       "    </tr>\n",
       "    <tr>\n",
       "      <th>1727</th>\n",
       "      <td>low</td>\n",
       "      <td>low</td>\n",
       "      <td>5more</td>\n",
       "      <td>more</td>\n",
       "      <td>big</td>\n",
       "      <td>high</td>\n",
       "      <td>vgood</td>\n",
       "    </tr>\n",
       "  </tbody>\n",
       "</table>\n",
       "<p>1728 rows × 7 columns</p>\n",
       "</div>"
      ],
      "text/plain": [
       "     Buying  Maint  Doors Capacity Lug_boot Safety Car_acceptability\n",
       "0     vhigh  vhigh      2        2    small    low             unacc\n",
       "1     vhigh  vhigh      2        2    small    med             unacc\n",
       "2     vhigh  vhigh      2        2    small   high             unacc\n",
       "3     vhigh  vhigh      2        2      med    low             unacc\n",
       "4     vhigh  vhigh      2        2      med    med             unacc\n",
       "...     ...    ...    ...      ...      ...    ...               ...\n",
       "1723    low    low  5more     more      med    med              good\n",
       "1724    low    low  5more     more      med   high             vgood\n",
       "1725    low    low  5more     more      big    low             unacc\n",
       "1726    low    low  5more     more      big    med              good\n",
       "1727    low    low  5more     more      big   high             vgood\n",
       "\n",
       "[1728 rows x 7 columns]"
      ]
     },
     "execution_count": 178,
     "metadata": {},
     "output_type": "execute_result"
    }
   ],
   "source": [
    "nomes_colunas = ['Buying', 'Maint', 'Doors', 'Capacity', 'Lug_boot', 'Safety', 'Car_acceptability']\n",
    "cars = pd.read_csv(filename, names=nomes_colunas)\n",
    "cars"
   ]
  },
  {
   "cell_type": "markdown",
   "metadata": {},
   "source": [
    "### Análise Exploratória Inicial"
   ]
  },
  {
   "cell_type": "code",
   "execution_count": 179,
   "metadata": {},
   "outputs": [],
   "source": [
    "#Colunas do dataset\n",
    "buying = cars.Buying\n",
    "maint = cars.Maint\n",
    "doors = cars.Doors\n",
    "capacity = cars.Capacity\n",
    "lug_boot = cars.Lug_boot\n",
    "safety = cars.Safety\n",
    "car_acceptability = cars.Car_acceptability"
   ]
  },
  {
   "cell_type": "code",
   "execution_count": 180,
   "metadata": {},
   "outputs": [],
   "source": [
    "#Função para fazer analise exploratoria inicial por coluna \n",
    "\n",
    "def analise_exploratoria(coluna):\n",
    "    display(coluna.value_counts()) \n",
    "    display(coluna.value_counts(True))\n",
    "\n",
    "    plt.figure(figsize=(5, 5))\n",
    "\n",
    "    plt.hist(coluna, density = True)\n",
    "    plt.xlabel(coluna.name)\n",
    "    plt.ylabel('Density')\n",
    "    plt.show()"
   ]
  },
  {
   "cell_type": "code",
   "execution_count": 181,
   "metadata": {
    "scrolled": false
   },
   "outputs": [
    {
     "data": {
      "text/plain": [
       "vhigh    432\n",
       "high     432\n",
       "med      432\n",
       "low      432\n",
       "Name: Buying, dtype: int64"
      ]
     },
     "metadata": {},
     "output_type": "display_data"
    },
    {
     "data": {
      "text/plain": [
       "vhigh    0.25\n",
       "high     0.25\n",
       "med      0.25\n",
       "low      0.25\n",
       "Name: Buying, dtype: float64"
      ]
     },
     "metadata": {},
     "output_type": "display_data"
    },
    {
     "data": {
      "image/png": "[encoded data removed]",
      "text/plain": [
       "<Figure size 360x360 with 1 Axes>"
      ]
     },
     "metadata": {
      "needs_background": "light"
     },
     "output_type": "display_data"
    }
   ],
   "source": [
    "#Buying\n",
    "analise_exploratoria(buying)"
   ]
  },
  {
   "cell_type": "code",
   "execution_count": 182,
   "metadata": {},
   "outputs": [
    {
     "data": {
      "text/plain": [
       "vhigh    432\n",
       "high     432\n",
       "med      432\n",
       "low      432\n",
       "Name: Maint, dtype: int64"
      ]
     },
     "metadata": {},
     "output_type": "display_data"
    },
    {
     "data": {
      "text/plain": [
       "vhigh    0.25\n",
       "high     0.25\n",
       "med      0.25\n",
       "low      0.25\n",
       "Name: Maint, dtype: float64"
      ]
     },
     "metadata": {},
     "output_type": "display_data"
    },
    {
     "data": {
      "image/png": "[encoded data removed]",
      "text/plain": [
       "<Figure size 360x360 with 1 Axes>"
      ]
     },
     "metadata": {
      "needs_background": "light"
     },
     "output_type": "display_data"
    }
   ],
   "source": [
    "#Maint\n",
    "analise_exploratoria(maint)"
   ]
  },
  {
   "cell_type": "code",
   "execution_count": 183,
   "metadata": {},
   "outputs": [
    {
     "data": {
      "text/plain": [
       "5more    432\n",
       "3        432\n",
       "2        432\n",
       "4        432\n",
       "Name: Doors, dtype: int64"
      ]
     },
     "metadata": {},
     "output_type": "display_data"
    },
    {
     "data": {
      "text/plain": [
       "5more    0.25\n",
       "3        0.25\n",
       "2        0.25\n",
       "4        0.25\n",
       "Name: Doors, dtype: float64"
      ]
     },
     "metadata": {},
     "output_type": "display_data"
    },
    {
     "data": {
      "image/png": "[encoded data removed]",
      "text/plain": [
       "<Figure size 360x360 with 1 Axes>"
      ]
     },
     "metadata": {
      "needs_background": "light"
     },
     "output_type": "display_data"
    }
   ],
   "source": [
    "#Doors\n",
    "analise_exploratoria(doors)"
   ]
  },
  {
   "cell_type": "code",
   "execution_count": 184,
   "metadata": {},
   "outputs": [
    {
     "data": {
      "text/plain": [
       "more    576\n",
       "2       576\n",
       "4       576\n",
       "Name: Capacity, dtype: int64"
      ]
     },
     "metadata": {},
     "output_type": "display_data"
    },
    {
     "data": {
      "text/plain": [
       "more    0.333333\n",
       "2       0.333333\n",
       "4       0.333333\n",
       "Name: Capacity, dtype: float64"
      ]
     },
     "metadata": {},
     "output_type": "display_data"
    },
    {
     "data": {
      "image/png": "[encoded data removed]",
      "text/plain": [
       "<Figure size 360x360 with 1 Axes>"
      ]
     },
     "metadata": {
      "needs_background": "light"
     },
     "output_type": "display_data"
    }
   ],
   "source": [
    "#Capacity\n",
    "analise_exploratoria(capacity)"
   ]
  },
  {
   "cell_type": "code",
   "execution_count": 185,
   "metadata": {},
   "outputs": [
    {
     "data": {
      "text/plain": [
       "small    576\n",
       "med      576\n",
       "big      576\n",
       "Name: Lug_boot, dtype: int64"
      ]
     },
     "metadata": {},
     "output_type": "display_data"
    },
    {
     "data": {
      "text/plain": [
       "small    0.333333\n",
       "med      0.333333\n",
       "big      0.333333\n",
       "Name: Lug_boot, dtype: float64"
      ]
     },
     "metadata": {},
     "output_type": "display_data"
    },
    {
     "data": {
      "image/png": "[encoded data removed]",
      "text/plain": [
       "<Figure size 360x360 with 1 Axes>"
      ]
     },
     "metadata": {
      "needs_background": "light"
     },
     "output_type": "display_data"
    }
   ],
   "source": [
    "#Lug_boot\n",
    "analise_exploratoria(lug_boot)"
   ]
  },
  {
   "cell_type": "code",
   "execution_count": 186,
   "metadata": {},
   "outputs": [
    {
     "data": {
      "text/plain": [
       "high    576\n",
       "med     576\n",
       "low     576\n",
       "Name: Safety, dtype: int64"
      ]
     },
     "metadata": {},
     "output_type": "display_data"
    },
    {
     "data": {
      "text/plain": [
       "high    0.333333\n",
       "med     0.333333\n",
       "low     0.333333\n",
       "Name: Safety, dtype: float64"
      ]
     },
     "metadata": {},
     "output_type": "display_data"
    },
    {
     "data": {
      "image/png": "[encoded data removed]",
      "text/plain": [
       "<Figure size 360x360 with 1 Axes>"
      ]
     },
     "metadata": {
      "needs_background": "light"
     },
     "output_type": "display_data"
    }
   ],
   "source": [
    "#Safety\n",
    "analise_exploratoria(safety)"
   ]
  },
  {
   "cell_type": "code",
   "execution_count": 187,
   "metadata": {},
   "outputs": [
    {
     "data": {
      "text/plain": [
       "unacc    1210\n",
       "acc       384\n",
       "good       69\n",
       "vgood      65\n",
       "Name: Car_acceptability, dtype: int64"
      ]
     },
     "metadata": {},
     "output_type": "display_data"
    },
    {
     "data": {
      "text/plain": [
       "unacc    0.700231\n",
       "acc      0.222222\n",
       "good     0.039931\n",
       "vgood    0.037616\n",
       "Name: Car_acceptability, dtype: float64"
      ]
     },
     "metadata": {},
     "output_type": "display_data"
    },
    {
     "data": {
      "image/png": "[encoded data removed]",
      "text/plain": [
       "<Figure size 360x360 with 1 Axes>"
      ]
     },
     "metadata": {
      "needs_background": "light"
     },
     "output_type": "display_data"
    }
   ],
   "source": [
    "#Car_acceptability\n",
    "analise_exploratoria(car_acceptability)"
   ]
  },
  {
   "cell_type": "markdown",
   "metadata": {},
   "source": [
    "### Iniciando classificação"
   ]
  },
  {
   "cell_type": "code",
   "execution_count": 188,
   "metadata": {},
   "outputs": [],
   "source": [
    "#Substituindo dados categoricos por valores ordinais\n",
    "buying_maint_dici = {'vhigh': '4', 'high': '3', 'med': '2', 'low': '1'}\n",
    "doors_dici = {'2':'2', '3':'3', '4':'4','5more': '5'}\n",
    "capacity_dici = {'2':'2', '4':'4', 'more': '3'}\n",
    "lug_boot_dici = {'small': '1', 'med': '2', 'big': '3'}\n",
    "safety_dici = {'low': '1', 'med': '2', 'high': '3'}\n",
    "car_acceptability_dici = {'unacc':'1', 'acc':'2', 'good':'3', 'vgood':'4'}\n",
    "\n",
    "cars['Buying'].replace(buying_maint_dici, inplace=True)\n",
    "cars['Maint'].replace(buying_maint_dici, inplace=True)\n",
    "cars['Doors'].replace(doors_dici, inplace=True)\n",
    "cars['Capacity'].replace(capacity_dici, inplace=True)\n",
    "cars['Lug_boot'].replace(lug_boot_dici, inplace=True)\n",
    "cars['Safety'].replace(safety_dici, inplace=True)\n",
    "cars['Car_acceptability'].replace(car_acceptability_dici, inplace=True)\n",
    "\n",
    "cars = cars.apply(pd.to_numeric)"
   ]
  },
  {
   "cell_type": "code",
   "execution_count": 189,
   "metadata": {},
   "outputs": [],
   "source": [
    "variaveis_independentes = ['Buying', 'Maint', 'Doors', 'Capacity', 'Lug_boot', 'Safety']\n",
    "x = cars[variaveis_independentes] \n",
    "y = car_acceptability"
   ]
  },
  {
   "cell_type": "code",
   "execution_count": 190,
   "metadata": {},
   "outputs": [],
   "source": [
    "#Dividindo o dataset em treino e teste\n",
    "x_train, x_test, y_train, y_test = sklearn.model_selection.train_test_split(x, y, test_size=0.25, random_state=0)"
   ]
  },
  {
   "cell_type": "code",
   "execution_count": 191,
   "metadata": {},
   "outputs": [],
   "source": [
    "#Funções para ver resultados\n",
    "\n",
    "def resultados(y_test, y_pre):\n",
    "    resultados = sklearn.metrics.classification_report(y_test, y_pre, output_dict=True)\n",
    "    df_result = pd.DataFrame(resultados).T\n",
    "    df_result['support'] = df_result['support'].apply(int)\n",
    "    df_result = df_result.rename(index={'1':'unacc', '2':'acc', '3':'good', '4':'vgood'})\n",
    "    display(df_result)\n",
    "    \n",
    "def matriz_confusao(modelo, x_test, y_test, nome):\n",
    "    print('---Legenda:---')\n",
    "    print('1 = unacc')\n",
    "    print('2 = acc')\n",
    "    print('3 = good')\n",
    "    print('4 = vgood')\n",
    "    sklearn.metrics.plot_confusion_matrix(modelo, x_test, y_test)\n",
    "    plt.title('Matriz de Confusão {}'.format(nome))\n",
    "    plt.show()\n"
   ]
  },
  {
   "cell_type": "markdown",
   "metadata": {},
   "source": [
    "### Classificação usando Regressão Logísitica "
   ]
  },
  {
   "attachments": {},
   "cell_type": "markdown",
   "metadata": {},
   "source": [
    "Regressão logística é um algoritmo de classificação. A técnica é muito utilizada para prever variáveis binárias (1 ou 0), mas também pode ser aplicada para problemas multinominais ou ordinais. Um exemplo clássico é um cenário em que, baseado na saúde da pessoa, o algoritmo deve prever se ela desenvolverá câncer ou não.  A técnica tem muitas vantagens perante a regressão linear, principalmente no que diz respeito à normalidade e linearidade. Dessa maneira, nota-se que não há, por exemplo, a necessidade da relação linear entre variável resposta e variáveis explicativas. Além disso, os resíduos não precisam estar normalmente distribuídos. A regressão logística pode ser equacionada da seguinte forma:\n",
    "\n",
    "<img src='Img/regressao_logistica.jpeg' width=200>"
   ]
  },
  {
   "cell_type": "code",
   "execution_count": 192,
   "metadata": {},
   "outputs": [],
   "source": [
    "#Fazendo a classificação\n",
    "modelo_rl = sklearn.linear_model.LogisticRegression(solver='lbfgs', max_iter=10000) #Criando modelo de regressão logística\n",
    "modelo_rl.fit(x_train,y_train) #Treinando modelo\n",
    "y_pre_rl = modelo_rl.predict(x_test) #Fazendo a predição"
   ]
  },
  {
   "cell_type": "code",
   "execution_count": 193,
   "metadata": {
    "scrolled": true
   },
   "outputs": [
    {
     "name": "stdout",
     "output_type": "stream",
     "text": [
      "----Resultados da Regressão Logística----\n"
     ]
    },
    {
     "data": {
      "text/html": [
       "<div>\n",
       "<style scoped>\n",
       "    .dataframe tbody tr th:only-of-type {\n",
       "        vertical-align: middle;\n",
       "    }\n",
       "\n",
       "    .dataframe tbody tr th {\n",
       "        vertical-align: top;\n",
       "    }\n",
       "\n",
       "    .dataframe thead th {\n",
       "        text-align: right;\n",
       "    }\n",
       "</style>\n",
       "<table border=\"1\" class=\"dataframe\">\n",
       "  <thead>\n",
       "    <tr style=\"text-align: right;\">\n",
       "      <th></th>\n",
       "      <th>precision</th>\n",
       "      <th>recall</th>\n",
       "      <th>f1-score</th>\n",
       "      <th>support</th>\n",
       "    </tr>\n",
       "  </thead>\n",
       "  <tbody>\n",
       "    <tr>\n",
       "      <th>unacc</th>\n",
       "      <td>0.873418</td>\n",
       "      <td>0.932432</td>\n",
       "      <td>0.901961</td>\n",
       "      <td>296</td>\n",
       "    </tr>\n",
       "    <tr>\n",
       "      <th>acc</th>\n",
       "      <td>0.714286</td>\n",
       "      <td>0.606061</td>\n",
       "      <td>0.655738</td>\n",
       "      <td>99</td>\n",
       "    </tr>\n",
       "    <tr>\n",
       "      <th>good</th>\n",
       "      <td>0.562500</td>\n",
       "      <td>0.428571</td>\n",
       "      <td>0.486486</td>\n",
       "      <td>21</td>\n",
       "    </tr>\n",
       "    <tr>\n",
       "      <th>vgood</th>\n",
       "      <td>0.750000</td>\n",
       "      <td>0.750000</td>\n",
       "      <td>0.750000</td>\n",
       "      <td>16</td>\n",
       "    </tr>\n",
       "    <tr>\n",
       "      <th>accuracy</th>\n",
       "      <td>0.826389</td>\n",
       "      <td>0.826389</td>\n",
       "      <td>0.826389</td>\n",
       "      <td>0</td>\n",
       "    </tr>\n",
       "    <tr>\n",
       "      <th>macro avg</th>\n",
       "      <td>0.725051</td>\n",
       "      <td>0.679266</td>\n",
       "      <td>0.698546</td>\n",
       "      <td>432</td>\n",
       "    </tr>\n",
       "    <tr>\n",
       "      <th>weighted avg</th>\n",
       "      <td>0.817265</td>\n",
       "      <td>0.826389</td>\n",
       "      <td>0.819710</td>\n",
       "      <td>432</td>\n",
       "    </tr>\n",
       "  </tbody>\n",
       "</table>\n",
       "</div>"
      ],
      "text/plain": [
       "              precision    recall  f1-score  support\n",
       "unacc          0.873418  0.932432  0.901961      296\n",
       "acc            0.714286  0.606061  0.655738       99\n",
       "good           0.562500  0.428571  0.486486       21\n",
       "vgood          0.750000  0.750000  0.750000       16\n",
       "accuracy       0.826389  0.826389  0.826389        0\n",
       "macro avg      0.725051  0.679266  0.698546      432\n",
       "weighted avg   0.817265  0.826389  0.819710      432"
      ]
     },
     "metadata": {},
     "output_type": "display_data"
    }
   ],
   "source": [
    "#Resultados da predição\n",
    "print('----Resultados da Regressão Logística----')\n",
    "resultados(y_test, y_pre_rl)"
   ]
  },
  {
   "cell_type": "code",
   "execution_count": 194,
   "metadata": {},
   "outputs": [
    {
     "name": "stdout",
     "output_type": "stream",
     "text": [
      "---Legenda:---\n",
      "1 = unacc\n",
      "2 = acc\n",
      "3 = good\n",
      "4 = vgood\n"
     ]
    },
    {
     "data": {
      "image/png": "[encoded data removed]",
      "text/plain": [
       "<Figure size 432x288 with 2 Axes>"
      ]
     },
     "metadata": {
      "needs_background": "light"
     },
     "output_type": "display_data"
    }
   ],
   "source": [
    "#Matriz de confusão\n",
    "nome = 'Regressão Logística'\n",
    "matriz_confusao(modelo_rl, x_test, y_test, nome)"
   ]
  },
  {
   "cell_type": "markdown",
   "metadata": {},
   "source": [
    "### Classificação usando Decision Tree"
   ]
  },
  {
   "cell_type": "markdown",
   "metadata": {},
   "source": [
    "Na classificação usando o Modelo de Predição Decision Tree, realizamos uma analogia à uma árvore, na qual cada ramo representa uma classificação binária "
   ]
  },
  {
   "cell_type": "code",
   "execution_count": 195,
   "metadata": {},
   "outputs": [],
   "source": [
    "#Fazendo a classificação\n",
    "modelo_dt = sklearn.tree.DecisionTreeClassifier() #Criando modelo decision Tree\n",
    "modelo_dt.fit(x_train,y_train) #Treinando modelo\n",
    "y_pre_dt = modelo_dt.predict(x_test) #Fazendo a predição"
   ]
  },
  {
   "cell_type": "code",
   "execution_count": 196,
   "metadata": {},
   "outputs": [
    {
     "name": "stdout",
     "output_type": "stream",
     "text": [
      "----------Resultados Decision Tree----------\n"
     ]
    },
    {
     "data": {
      "text/html": [
       "<div>\n",
       "<style scoped>\n",
       "    .dataframe tbody tr th:only-of-type {\n",
       "        vertical-align: middle;\n",
       "    }\n",
       "\n",
       "    .dataframe tbody tr th {\n",
       "        vertical-align: top;\n",
       "    }\n",
       "\n",
       "    .dataframe thead th {\n",
       "        text-align: right;\n",
       "    }\n",
       "</style>\n",
       "<table border=\"1\" class=\"dataframe\">\n",
       "  <thead>\n",
       "    <tr style=\"text-align: right;\">\n",
       "      <th></th>\n",
       "      <th>precision</th>\n",
       "      <th>recall</th>\n",
       "      <th>f1-score</th>\n",
       "      <th>support</th>\n",
       "    </tr>\n",
       "  </thead>\n",
       "  <tbody>\n",
       "    <tr>\n",
       "      <th>unacc</th>\n",
       "      <td>0.980066</td>\n",
       "      <td>0.996622</td>\n",
       "      <td>0.988275</td>\n",
       "      <td>296</td>\n",
       "    </tr>\n",
       "    <tr>\n",
       "      <th>acc</th>\n",
       "      <td>0.978022</td>\n",
       "      <td>0.898990</td>\n",
       "      <td>0.936842</td>\n",
       "      <td>99</td>\n",
       "    </tr>\n",
       "    <tr>\n",
       "      <th>good</th>\n",
       "      <td>0.840000</td>\n",
       "      <td>1.000000</td>\n",
       "      <td>0.913043</td>\n",
       "      <td>21</td>\n",
       "    </tr>\n",
       "    <tr>\n",
       "      <th>vgood</th>\n",
       "      <td>1.000000</td>\n",
       "      <td>0.937500</td>\n",
       "      <td>0.967742</td>\n",
       "      <td>16</td>\n",
       "    </tr>\n",
       "    <tr>\n",
       "      <th>accuracy</th>\n",
       "      <td>0.972222</td>\n",
       "      <td>0.972222</td>\n",
       "      <td>0.972222</td>\n",
       "      <td>0</td>\n",
       "    </tr>\n",
       "    <tr>\n",
       "      <th>macro avg</th>\n",
       "      <td>0.949522</td>\n",
       "      <td>0.958278</td>\n",
       "      <td>0.951476</td>\n",
       "      <td>432</td>\n",
       "    </tr>\n",
       "    <tr>\n",
       "      <th>weighted avg</th>\n",
       "      <td>0.973527</td>\n",
       "      <td>0.972222</td>\n",
       "      <td>0.972071</td>\n",
       "      <td>432</td>\n",
       "    </tr>\n",
       "  </tbody>\n",
       "</table>\n",
       "</div>"
      ],
      "text/plain": [
       "              precision    recall  f1-score  support\n",
       "unacc          0.980066  0.996622  0.988275      296\n",
       "acc            0.978022  0.898990  0.936842       99\n",
       "good           0.840000  1.000000  0.913043       21\n",
       "vgood          1.000000  0.937500  0.967742       16\n",
       "accuracy       0.972222  0.972222  0.972222        0\n",
       "macro avg      0.949522  0.958278  0.951476      432\n",
       "weighted avg   0.973527  0.972222  0.972071      432"
      ]
     },
     "metadata": {},
     "output_type": "display_data"
    }
   ],
   "source": [
    "print('----------Resultados Decision Tree----------')\n",
    "resultados(y_test, y_pre_dt)"
   ]
  },
  {
   "cell_type": "code",
   "execution_count": 197,
   "metadata": {},
   "outputs": [
    {
     "name": "stdout",
     "output_type": "stream",
     "text": [
      "---Legenda:---\n",
      "1 = unacc\n",
      "2 = acc\n",
      "3 = good\n",
      "4 = vgood\n"
     ]
    },
    {
     "data": {
      "image/png": "[encoded data removed]",
      "text/plain": [
       "<Figure size 432x288 with 2 Axes>"
      ]
     },
     "metadata": {
      "needs_background": "light"
     },
     "output_type": "display_data"
    }
   ],
   "source": [
    "#Matriz de confusão\n",
    "nome = 'Decision Tree'\n",
    "matriz_confusao(modelo_dt, x_test, y_test, nome)"
   ]
  },
  {
   "cell_type": "markdown",
   "metadata": {},
   "source": [
    "### Conclusão"
   ]
  },
  {
   "cell_type": "markdown",
   "metadata": {},
   "source": [
    "Escrever a Conclusão"
   ]
  },
  {
   "cell_type": "markdown",
   "metadata": {},
   "source": [
    "### Referências"
   ]
  },
  {
   "cell_type": "markdown",
   "metadata": {},
   "source": [
    "- https://www.datacamp.com/community/tutorials/understanding-logistic-regression-python <br />\n",
    "- https://estatsite.com.br/2020/09/23/regressao-logistica-em-python/ <br />\n",
    "- https://matheusfacure.github.io/2017/02/25/regr-log/ <br />\n",
    "- https://www.datasciencecentral.com/profiles/blogs/alternatives-to-logistic-regression <br />\n",
    "- https://paulovasconcellos.com.br/como-saber-se-seu-modelo-de-machine-learning-está-funcionando-mesmo-a5892f6468b <br />\n",
    "- https://mljar.com/blog/visualize-decision-tree/ <br />\n",
    "- https://www.datacamp.com/community/tutorials/decision-tree-classification-python <br />"
   ]
  }
 ],
 "metadata": {
  "kernelspec": {
   "display_name": "Python 3",
   "language": "python",
   "name": "python3"
  },
  "language_info": {
   "codemirror_mode": {
    "name": "ipython",
    "version": 3
   },
   "file_extension": ".py",
   "mimetype": "text/x-python",
   "name": "python",
   "nbconvert_exporter": "python",
   "pygments_lexer": "ipython3",
   "version": "3.7.4"
  }
 },
 "nbformat": 4,
 "nbformat_minor": 4
}
